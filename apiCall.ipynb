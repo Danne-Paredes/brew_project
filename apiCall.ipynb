{
 "cells": [
  {
   "cell_type": "code",
   "execution_count": null,
   "metadata": {},
   "outputs": [],
   "source": [
    "# Dependencies and Setup\n",
    "import matplotlib.pyplot as plt\n",
    "import csv\n",
    "import pandas as pd\n",
    "import numpy as np\n",
    "import requests\n",
    "import json\n",
    "from pprint import pprint\n",
    "from pandas.io.json import json_normalize\n",
    "import time\n",
    "\n",
    "\n",
    "\n",
    "# Import API key\n",
    "from api_key import brew\n"
   ]
  },
  {
   "cell_type": "code",
   "execution_count": null,
   "metadata": {
    "tags": [
     "outputPrepend",
     "outputPrepend"
    ]
   },
   "outputs": [],
   "source": [
    "import json\n",
    "with open('wc.json', 'w', encoding='utf-8') as f:\n",
    "    json.dump(response, f, ensure_ascii=False, indent=4)"
   ]
  },
  {
   "cell_type": "code",
   "execution_count": null,
   "metadata": {},
   "outputs": [],
   "source": [
    "brewery = json_normalize(beers2['data'])\n",
    "brewery.to_csv('beers/Beers.csv',index=False)"
   ]
  },
  {
   "cell_type": "code",
   "execution_count": null,
   "metadata": {},
   "outputs": [],
   "source": [
    "brewery"
   ]
  },
  {
   "cell_type": "code",
   "execution_count": null,
   "metadata": {},
   "outputs": [],
   "source": [
    "base_url = \"https://api.brewerydb.com/v2/brewery/6PBXvz/beers\"\n",
    "\n",
    "urlq = f\"{base_url}?key={brew}\"\n",
    "\n",
    "response = requests.get(urlq).json()\n",
    "\n"
   ]
  },
  {
   "cell_type": "code",
   "execution_count": null,
   "metadata": {},
   "outputs": [],
   "source": [
    "# gets list of all beers but its too big for one query search so we have to flip through pages\n",
    "base_url = \"https://api.brewerydb.com/v2/beers\"\n",
    "urlq = f\"{base_url}?key={brew}\"\n",
    "\n",
    "response = requests.get(urlq).json()\n",
    "\n",
    "# set page range with data found on first page of json\n",
    "p_start = response['currentPage']\n",
    "p_last = response['numberOfPages']\n",
    "q_range = range(p_start, p_last,1)\n",
    "beers = {\n",
    "\n",
    "}\n",
    "\n",
    "# for each page in data:\n",
    "for page in q_range:\n",
    "    response = requests.get(f'{urlq}&p={page}').json()\n",
    "    beers.update(response)\n",
    "    print(f'Page {page} succssful')\n",
    "    time.sleep(1)\n",
    "\n",
    "\n",
    "\n",
    "\n",
    "\n",
    "#     # For each beer on page\n",
    "#     for beer in response['data']:\n",
    "        \n",
    "#         beer_id.append(beer['id'])\n",
    "# len(beer_id) stopped at 268"
   ]
  },
  {
   "cell_type": "code",
   "execution_count": null,
   "metadata": {
    "tags": [
     "outputPrepend",
     "outputPrepend",
     "outputPrepend"
    ]
   },
   "outputs": [],
   "source": [
    "pprint(beers)"
   ]
  },
  {
   "cell_type": "code",
   "execution_count": 67,
   "metadata": {
    "tags": [
     "outputPrepend",
     "outputPrepend",
     "outputPrepend",
     "outputPrepend",
     "outputPrepend",
     "outputPrepend",
     "outputPrepend",
     "outputPrepend",
     "outputPrepend",
     "outputPrepend",
     "outputPrepend"
    ]
   },
   "outputs": [
    {
     "output_type": "error",
     "ename": "ValueError",
     "evalue": "dictionary update sequence element #0 has length 15; 2 is required",
     "traceback": [
      "\u001b[1;31m---------------------------------------------------------------------------\u001b[0m",
      "\u001b[1;31mValueError\u001b[0m                                Traceback (most recent call last)",
      "\u001b[1;32m<ipython-input-67-b912c7d3323a>\u001b[0m in \u001b[0;36m<module>\u001b[1;34m\u001b[0m\n\u001b[0;32m     15\u001b[0m \u001b[1;32mfor\u001b[0m \u001b[0mpage\u001b[0m \u001b[1;32min\u001b[0m \u001b[0mq_range\u001b[0m\u001b[1;33m:\u001b[0m\u001b[1;33m\u001b[0m\u001b[1;33m\u001b[0m\u001b[0m\n\u001b[0;32m     16\u001b[0m     \u001b[0mresponse\u001b[0m \u001b[1;33m=\u001b[0m \u001b[0mrequests\u001b[0m\u001b[1;33m.\u001b[0m\u001b[0mget\u001b[0m\u001b[1;33m(\u001b[0m\u001b[1;34mf'{urlq}&p={page}'\u001b[0m\u001b[1;33m)\u001b[0m\u001b[1;33m.\u001b[0m\u001b[0mjson\u001b[0m\u001b[1;33m(\u001b[0m\u001b[1;33m)\u001b[0m\u001b[1;33m\u001b[0m\u001b[1;33m\u001b[0m\u001b[0m\n\u001b[1;32m---> 17\u001b[1;33m     \u001b[0mbeers2\u001b[0m\u001b[1;33m.\u001b[0m\u001b[0mupdate\u001b[0m\u001b[1;33m(\u001b[0m\u001b[0mresponse\u001b[0m\u001b[1;33m[\u001b[0m\u001b[1;34m'data'\u001b[0m\u001b[1;33m]\u001b[0m\u001b[1;33m)\u001b[0m\u001b[1;33m\u001b[0m\u001b[1;33m\u001b[0m\u001b[0m\n\u001b[0m\u001b[0;32m     18\u001b[0m     \u001b[0mprint\u001b[0m\u001b[1;33m(\u001b[0m\u001b[1;34mf'Page {page} succssful'\u001b[0m\u001b[1;33m)\u001b[0m\u001b[1;33m\u001b[0m\u001b[1;33m\u001b[0m\u001b[0m\n\u001b[0;32m     19\u001b[0m     \u001b[0mtime\u001b[0m\u001b[1;33m.\u001b[0m\u001b[0msleep\u001b[0m\u001b[1;33m(\u001b[0m\u001b[1;36m1\u001b[0m\u001b[1;33m)\u001b[0m\u001b[1;33m\u001b[0m\u001b[1;33m\u001b[0m\u001b[0m\n",
      "\u001b[1;31mValueError\u001b[0m: dictionary update sequence element #0 has length 15; 2 is required"
     ]
    }
   ],
   "source": [
    "# gets list of all beers but its too big for one query search so we have to flip through pages\n",
    "sand_key = '4a258306b3cc57d4ce3fee92bc4d7b24'\n",
    "base_url = \"https://sandbox-api.brewerydb.com/v2/beers/\"\n",
    "urlq = f\"{base_url}?key={sand_key}\"\n",
    "\n",
    "response = requests.get(urlq).json()\n",
    "\n",
    "# set page range with data found on first page of json\n",
    "p_start = 1\n",
    "p_last = 5\n",
    "q_range = range(p_start, p_last,1)\n",
    "beers2 = {}\n",
    "\n",
    "# for each page in data:\n",
    "for page in q_range:\n",
    "    response = requests.get(f'{urlq}&p={page}').json()\n",
    "    beers2.update(response['data'])\n",
    "    print(f'Page {page} succssful')\n",
    "    time.sleep(1)\n",
    "\n",
    "\n",
    "\n",
    "\n",
    "\n",
    "#     # For each beer on page\n",
    "#     for beer in response['data']:\n",
    "        \n",
    "#         beer_id.append(beer['id'])\n",
    "# len(beer_id) stopped at 268"
   ]
  },
  {
   "cell_type": "code",
   "execution_count": 65,
   "metadata": {
    "tags": [
     "outputPrepend",
     "outputPrepend",
     "outputPrepend",
     "outputPrepend",
     "outputPrepend",
     "outputPrepend",
     "outputPrepend",
     "outputPrepend"
    ]
   },
   "outputs": [
    {
     "output_type": "execute_result",
     "data": {
      "text/plain": "                                                  0   \\\n0  {'id': 'c4f2KE', 'name': ''Murican Pilsner', '...   \n1  {'id': 'hYaduh', 'name': 'Alt Route - Beer Cam...   \n2  {'id': 'kvklwS', 'name': 'Bayside Black IPA', ...   \n3  {'id': 'IphbdN', 'name': 'Bigfoot', 'nameDispl...   \n\n                                                  1   \\\n0  {'id': 'zTTWa2', 'name': '11.5° PLATO', 'nameD...   \n1  {'id': '5TQX99', 'name': 'ALTitude', 'nameDisp...   \n2  {'id': '3JrTod', 'name': 'Beach Bum Blonde Ale...   \n3  {'id': '8PsCAg', 'name': 'Bigfoot', 'nameDispl...   \n\n                                                  2   \\\n0  {'id': 'zfP2fK', 'name': '12th Of Never', 'nam...   \n1  {'id': 'qIa0fL', 'name': 'Amber Beer', 'nameDi...   \n2  {'id': '9YCuGj', 'name': 'Bearsharktopus', 'na...   \n3  {'id': 'ER2JSs', 'name': 'Bigfoot', 'nameDispl...   \n\n                                                  3   \\\n0  {'id': 'xwYSL2', 'name': '15th Anniversary Ale...   \n1  {'id': 'Zd8Cxd', 'name': 'American Summer Hopp...   \n2  {'id': 'ZQkBoF', 'name': 'Bearwalker Barrel Ag...   \n3  {'id': '2CRlqm', 'name': 'Bigfoot', 'nameDispl...   \n\n                                                  4   \\\n0  {'id': 'UJGpVS', 'name': '16 So Fine Red Wheat...   \n1  {'id': 'Ota9wv', 'name': 'Añejo Tequila Barrel...   \n2  {'id': 'Nl1CJp', 'name': 'Bearwalker Brown', '...   \n3  {'id': 'qUIYuC', 'name': 'Bigfoot', 'nameDispl...   \n\n                                                  5   \\\n0  {'id': 'vz5JZ1', 'name': '1794 The Fergal Proj...   \n1  {'id': 'b6nCMj', 'name': 'Anniversary Ale', 'n...   \n2  {'id': 'c4ODPx', 'name': 'Bearwalker Maple Bro...   \n3  {'id': '9HcWSd', 'name': 'Bigfoot', 'nameDispl...   \n\n                                                  6   \\\n0  {'id': 'LcpeBb', 'name': '17th Saison', 'nameD...   \n1  {'id': 'fBZZUJ', 'name': 'Anniversary Ale', 'n...   \n2  {'id': 'Jyj4KZ', 'name': 'Bearwalker Maple Nut...   \n3  {'id': 'dapUuF', 'name': 'Bigfoot (2016)', 'na...   \n\n                                                  7   \\\n0  {'id': 'Yd8G8r', 'name': '18th Anniversary Bel...   \n1  {'id': 'iEMsk8', 'name': 'Anniversary Ale 2007...   \n2  {'id': 'OJadqc', 'name': 'Beer Barrel Bourbon'...   \n3  {'id': 'AFNvz4', 'name': 'Bigfoot (2018)', 'na...   \n\n                                                  8   \\\n0  {'id': 'iJ329Y', 'name': '19 - Golden Belgian ...   \n1  {'id': 'ItEVNY', 'name': 'Anniversary Ale 2009...   \n2  {'id': '2rqlKs', 'name': 'Beer Camp 013: Old C...   \n3  {'id': '0T4pOY', 'name': 'Bigfoot Barrel-Aged'...   \n\n                                                  9   ...  \\\n0  {'id': 'O78ldO', 'name': '1904 American Red La...  ...   \n1  {'id': 'HIuMUM', 'name': 'Antwerpen Stout', 'n...  ...   \n2  {'id': '7iFx4r', 'name': 'Beer Camp Across Ame...  ...   \n3  {'id': 'Rxu5Bd', 'name': 'Bing Bing', 'nameDis...  ...   \n\n                                                  40  \\\n0  {'id': 'Au0v9G', 'name': 'A Little Sumpin' Ext...   \n1  {'id': 'zLqnaW', 'name': 'Barrel Aged Nuovo Re...   \n2  {'id': 'ETtkIW', 'name': 'Bigfoot', 'nameDispl...   \n3  {'id': 'qpPzL7', 'name': 'Bobolink', 'nameDisp...   \n\n                                                  41  \\\n0  {'id': 'svXHfu', 'name': 'A Little Sumpin' Sum...   \n1  {'id': 'DvxCJ2', 'name': 'Barrel Aged Twenty F...   \n2  {'id': 'eyYenc', 'name': 'Bigfoot', 'nameDispl...   \n3  {'id': 'vmmRA5', 'name': 'Bohemian Dock Street...   \n\n                                                  42  \\\n0  {'id': 'hbF6tu', 'name': 'ABLE Best Britter', ...   \n1  {'id': 'HIwvra', 'name': 'Barrel-Aged Bigfoot ...   \n2  {'id': 'ygAzC9', 'name': 'Bigfoot', 'nameDispl...   \n3  {'id': '75agIj', 'name': 'Bolivia Newton John'...   \n\n                                                  43  \\\n0  {'id': 'MTLa3r', 'name': 'Afternooner', 'nameD...   \n1  {'id': 'AZgmir', 'name': 'Barrel-Aged Hoptimum...   \n2  {'id': 'aztnLa', 'name': 'Bigfoot', 'nameDispl...   \n3  {'id': 'HgMkeg', 'name': 'Bonnaroo Brew', 'nam...   \n\n                                                  44  \\\n0  {'id': '6AcqY6', 'name': 'Agave Wheat', 'nameD...   \n1  {'id': 'xjSOtt', 'name': 'Barrel-Aged Porter',...   \n2  {'id': 'DJcbV1', 'name': 'Bigfoot', 'nameDispl...   \n3  {'id': 'AEFy0R', 'name': 'Boomerang', 'nameDis...   \n\n                                                  45  \\\n0  {'id': 'RK9Po6', 'name': 'Ale 20', 'nameDispla...   \n1  {'id': 'Ydp0k0', 'name': 'Barrel-Aged Ten Fidy...   \n2  {'id': 'pdLPeS', 'name': 'Bigfoot', 'nameDispl...   \n3  {'id': 'HmjnXt', 'name': 'Born Again Yesterday...   \n\n                                                  46  \\\n0  {'id': 'yn4ODI', 'name': 'Ale Communication', ...   \n1  {'id': 'PZL75k', 'name': 'Barrel-Aged Thunder ...   \n2  {'id': 'Rx4Dnt', 'name': 'Bigfoot', 'nameDispl...   \n3  {'id': 'QdPbTF', 'name': 'Born Yesterday', 'na...   \n\n                                                  47  \\\n0  {'id': '2cLm8B', 'name': 'All Colorado Apricot...   \n1  {'id': '4A41PO', 'name': 'Barrel-Aged Torpedo ...   \n2  {'id': 'ysyw2P', 'name': 'Bigfoot', 'nameDispl...   \n3  {'id': 'NU4qr0', 'name': 'Bosden', 'nameDispla...   \n\n                                                  48  \\\n0  {'id': 'DbeLZF', 'name': 'All Colorado Wet Hop...   \n1  {'id': 'x7GusT', 'name': 'Batch #2 Barleywine'...   \n2  {'id': '4sdq0d', 'name': 'Bigfoot', 'nameDispl...   \n3  {'id': 'Yjd19k', 'name': 'Bottle Rocket IPA', ...   \n\n                                                  49  \n0  {'id': 'aG4Ie2', 'name': 'Alpha Dog Imperial I...  \n1  {'id': 'JzR6cK', 'name': 'Bavarian-Styled Dopp...  \n2  {'id': '1UhodH', 'name': 'Bigfoot', 'nameDispl...  \n3  {'id': 'yORSh7', 'name': 'Bourbon Barrel Aged ...  \n\n[4 rows x 50 columns]",
      "text/html": "<div>\n<style scoped>\n    .dataframe tbody tr th:only-of-type {\n        vertical-align: middle;\n    }\n\n    .dataframe tbody tr th {\n        vertical-align: top;\n    }\n\n    .dataframe thead th {\n        text-align: right;\n    }\n</style>\n<table border=\"1\" class=\"dataframe\">\n  <thead>\n    <tr style=\"text-align: right;\">\n      <th></th>\n      <th>0</th>\n      <th>1</th>\n      <th>2</th>\n      <th>3</th>\n      <th>4</th>\n      <th>5</th>\n      <th>6</th>\n      <th>7</th>\n      <th>8</th>\n      <th>9</th>\n      <th>...</th>\n      <th>40</th>\n      <th>41</th>\n      <th>42</th>\n      <th>43</th>\n      <th>44</th>\n      <th>45</th>\n      <th>46</th>\n      <th>47</th>\n      <th>48</th>\n      <th>49</th>\n    </tr>\n  </thead>\n  <tbody>\n    <tr>\n      <th>0</th>\n      <td>{'id': 'c4f2KE', 'name': ''Murican Pilsner', '...</td>\n      <td>{'id': 'zTTWa2', 'name': '11.5° PLATO', 'nameD...</td>\n      <td>{'id': 'zfP2fK', 'name': '12th Of Never', 'nam...</td>\n      <td>{'id': 'xwYSL2', 'name': '15th Anniversary Ale...</td>\n      <td>{'id': 'UJGpVS', 'name': '16 So Fine Red Wheat...</td>\n      <td>{'id': 'vz5JZ1', 'name': '1794 The Fergal Proj...</td>\n      <td>{'id': 'LcpeBb', 'name': '17th Saison', 'nameD...</td>\n      <td>{'id': 'Yd8G8r', 'name': '18th Anniversary Bel...</td>\n      <td>{'id': 'iJ329Y', 'name': '19 - Golden Belgian ...</td>\n      <td>{'id': 'O78ldO', 'name': '1904 American Red La...</td>\n      <td>...</td>\n      <td>{'id': 'Au0v9G', 'name': 'A Little Sumpin' Ext...</td>\n      <td>{'id': 'svXHfu', 'name': 'A Little Sumpin' Sum...</td>\n      <td>{'id': 'hbF6tu', 'name': 'ABLE Best Britter', ...</td>\n      <td>{'id': 'MTLa3r', 'name': 'Afternooner', 'nameD...</td>\n      <td>{'id': '6AcqY6', 'name': 'Agave Wheat', 'nameD...</td>\n      <td>{'id': 'RK9Po6', 'name': 'Ale 20', 'nameDispla...</td>\n      <td>{'id': 'yn4ODI', 'name': 'Ale Communication', ...</td>\n      <td>{'id': '2cLm8B', 'name': 'All Colorado Apricot...</td>\n      <td>{'id': 'DbeLZF', 'name': 'All Colorado Wet Hop...</td>\n      <td>{'id': 'aG4Ie2', 'name': 'Alpha Dog Imperial I...</td>\n    </tr>\n    <tr>\n      <th>1</th>\n      <td>{'id': 'hYaduh', 'name': 'Alt Route - Beer Cam...</td>\n      <td>{'id': '5TQX99', 'name': 'ALTitude', 'nameDisp...</td>\n      <td>{'id': 'qIa0fL', 'name': 'Amber Beer', 'nameDi...</td>\n      <td>{'id': 'Zd8Cxd', 'name': 'American Summer Hopp...</td>\n      <td>{'id': 'Ota9wv', 'name': 'Añejo Tequila Barrel...</td>\n      <td>{'id': 'b6nCMj', 'name': 'Anniversary Ale', 'n...</td>\n      <td>{'id': 'fBZZUJ', 'name': 'Anniversary Ale', 'n...</td>\n      <td>{'id': 'iEMsk8', 'name': 'Anniversary Ale 2007...</td>\n      <td>{'id': 'ItEVNY', 'name': 'Anniversary Ale 2009...</td>\n      <td>{'id': 'HIuMUM', 'name': 'Antwerpen Stout', 'n...</td>\n      <td>...</td>\n      <td>{'id': 'zLqnaW', 'name': 'Barrel Aged Nuovo Re...</td>\n      <td>{'id': 'DvxCJ2', 'name': 'Barrel Aged Twenty F...</td>\n      <td>{'id': 'HIwvra', 'name': 'Barrel-Aged Bigfoot ...</td>\n      <td>{'id': 'AZgmir', 'name': 'Barrel-Aged Hoptimum...</td>\n      <td>{'id': 'xjSOtt', 'name': 'Barrel-Aged Porter',...</td>\n      <td>{'id': 'Ydp0k0', 'name': 'Barrel-Aged Ten Fidy...</td>\n      <td>{'id': 'PZL75k', 'name': 'Barrel-Aged Thunder ...</td>\n      <td>{'id': '4A41PO', 'name': 'Barrel-Aged Torpedo ...</td>\n      <td>{'id': 'x7GusT', 'name': 'Batch #2 Barleywine'...</td>\n      <td>{'id': 'JzR6cK', 'name': 'Bavarian-Styled Dopp...</td>\n    </tr>\n    <tr>\n      <th>2</th>\n      <td>{'id': 'kvklwS', 'name': 'Bayside Black IPA', ...</td>\n      <td>{'id': '3JrTod', 'name': 'Beach Bum Blonde Ale...</td>\n      <td>{'id': '9YCuGj', 'name': 'Bearsharktopus', 'na...</td>\n      <td>{'id': 'ZQkBoF', 'name': 'Bearwalker Barrel Ag...</td>\n      <td>{'id': 'Nl1CJp', 'name': 'Bearwalker Brown', '...</td>\n      <td>{'id': 'c4ODPx', 'name': 'Bearwalker Maple Bro...</td>\n      <td>{'id': 'Jyj4KZ', 'name': 'Bearwalker Maple Nut...</td>\n      <td>{'id': 'OJadqc', 'name': 'Beer Barrel Bourbon'...</td>\n      <td>{'id': '2rqlKs', 'name': 'Beer Camp 013: Old C...</td>\n      <td>{'id': '7iFx4r', 'name': 'Beer Camp Across Ame...</td>\n      <td>...</td>\n      <td>{'id': 'ETtkIW', 'name': 'Bigfoot', 'nameDispl...</td>\n      <td>{'id': 'eyYenc', 'name': 'Bigfoot', 'nameDispl...</td>\n      <td>{'id': 'ygAzC9', 'name': 'Bigfoot', 'nameDispl...</td>\n      <td>{'id': 'aztnLa', 'name': 'Bigfoot', 'nameDispl...</td>\n      <td>{'id': 'DJcbV1', 'name': 'Bigfoot', 'nameDispl...</td>\n      <td>{'id': 'pdLPeS', 'name': 'Bigfoot', 'nameDispl...</td>\n      <td>{'id': 'Rx4Dnt', 'name': 'Bigfoot', 'nameDispl...</td>\n      <td>{'id': 'ysyw2P', 'name': 'Bigfoot', 'nameDispl...</td>\n      <td>{'id': '4sdq0d', 'name': 'Bigfoot', 'nameDispl...</td>\n      <td>{'id': '1UhodH', 'name': 'Bigfoot', 'nameDispl...</td>\n    </tr>\n    <tr>\n      <th>3</th>\n      <td>{'id': 'IphbdN', 'name': 'Bigfoot', 'nameDispl...</td>\n      <td>{'id': '8PsCAg', 'name': 'Bigfoot', 'nameDispl...</td>\n      <td>{'id': 'ER2JSs', 'name': 'Bigfoot', 'nameDispl...</td>\n      <td>{'id': '2CRlqm', 'name': 'Bigfoot', 'nameDispl...</td>\n      <td>{'id': 'qUIYuC', 'name': 'Bigfoot', 'nameDispl...</td>\n      <td>{'id': '9HcWSd', 'name': 'Bigfoot', 'nameDispl...</td>\n      <td>{'id': 'dapUuF', 'name': 'Bigfoot (2016)', 'na...</td>\n      <td>{'id': 'AFNvz4', 'name': 'Bigfoot (2018)', 'na...</td>\n      <td>{'id': '0T4pOY', 'name': 'Bigfoot Barrel-Aged'...</td>\n      <td>{'id': 'Rxu5Bd', 'name': 'Bing Bing', 'nameDis...</td>\n      <td>...</td>\n      <td>{'id': 'qpPzL7', 'name': 'Bobolink', 'nameDisp...</td>\n      <td>{'id': 'vmmRA5', 'name': 'Bohemian Dock Street...</td>\n      <td>{'id': '75agIj', 'name': 'Bolivia Newton John'...</td>\n      <td>{'id': 'HgMkeg', 'name': 'Bonnaroo Brew', 'nam...</td>\n      <td>{'id': 'AEFy0R', 'name': 'Boomerang', 'nameDis...</td>\n      <td>{'id': 'HmjnXt', 'name': 'Born Again Yesterday...</td>\n      <td>{'id': 'QdPbTF', 'name': 'Born Yesterday', 'na...</td>\n      <td>{'id': 'NU4qr0', 'name': 'Bosden', 'nameDispla...</td>\n      <td>{'id': 'Yjd19k', 'name': 'Bottle Rocket IPA', ...</td>\n      <td>{'id': 'yORSh7', 'name': 'Bourbon Barrel Aged ...</td>\n    </tr>\n  </tbody>\n</table>\n<p>4 rows × 50 columns</p>\n</div>"
     },
     "metadata": {},
     "execution_count": 65
    }
   ],
   "source": [
    "b = pd.DataFrame(beers2)\n",
    "b"
   ]
  },
  {
   "cell_type": "code",
   "execution_count": null,
   "metadata": {
    "tags": [
     "outputPrepend"
    ]
   },
   "outputs": [],
   "source": [
    "for beer in beers2:\n",
    "    for be in beer\n",
    "        print(beer[0])"
   ]
  },
  {
   "cell_type": "code",
   "execution_count": null,
   "metadata": {},
   "outputs": [],
   "source": [
    "brewery = json_normalize(beers2)\n",
    "brewery.to_csv('beers/Beers2.csv',index=False)\n",
    "brewery"
   ]
  },
  {
   "cell_type": "code",
   "execution_count": 62,
   "metadata": {},
   "outputs": [
    {
     "output_type": "error",
     "ename": "TypeError",
     "evalue": "list indices must be integers or slices, not str",
     "traceback": [
      "\u001b[1;31m---------------------------------------------------------------------------\u001b[0m",
      "\u001b[1;31mTypeError\u001b[0m                                 Traceback (most recent call last)",
      "\u001b[1;32m<ipython-input-62-bd29e14ece5a>\u001b[0m in \u001b[0;36m<module>\u001b[1;34m\u001b[0m\n\u001b[1;32m----> 1\u001b[1;33m \u001b[0mb\u001b[0m \u001b[1;33m=\u001b[0m \u001b[0mpd\u001b[0m\u001b[1;33m.\u001b[0m\u001b[0mDataFrame\u001b[0m\u001b[1;33m(\u001b[0m\u001b[0mbeers2\u001b[0m\u001b[1;33m[\u001b[0m\u001b[1;36m0\u001b[0m\u001b[1;33m]\u001b[0m\u001b[1;33m[\u001b[0m\u001b[1;34m'data'\u001b[0m\u001b[1;33m]\u001b[0m\u001b[1;33m)\u001b[0m\u001b[1;33m\u001b[0m\u001b[1;33m\u001b[0m\u001b[0m\n\u001b[0m\u001b[0;32m      2\u001b[0m \u001b[0mb\u001b[0m\u001b[1;33m\u001b[0m\u001b[1;33m\u001b[0m\u001b[0m\n",
      "\u001b[1;31mTypeError\u001b[0m: list indices must be integers or slices, not str"
     ]
    }
   ],
   "source": [
    "b = pd.DataFrame(beers2[0]['data'])\n",
    "b"
   ]
  },
  {
   "cell_type": "code",
   "execution_count": null,
   "metadata": {},
   "outputs": [],
   "source": []
  }
 ],
 "metadata": {
  "kernelspec": {
   "display_name": "Python 3",
   "language": "python",
   "name": "python3"
  },
  "language_info": {
   "codemirror_mode": {
    "name": "ipython",
    "version": 3
   },
   "file_extension": ".py",
   "mimetype": "text/x-python",
   "name": "python",
   "nbconvert_exporter": "python",
   "pygments_lexer": "ipython3",
<<<<<<< HEAD
   "version": "3.7.6-final"
  },
  "orig_nbformat": 2,
  "kernelspec": {
   "name": "python37664bitdannevirtualenvd7bda2e2111e4321bfb3a90ad34ab199",
   "display_name": "Python 3.7.6 64-bit ('danne': virtualenv)"
=======
   "version": "3.7.6"
>>>>>>> 322fc7835363b24f60180cf4bdf5c225e8b315fc
  }
 },
 "nbformat": 4,
 "nbformat_minor": 2
}
