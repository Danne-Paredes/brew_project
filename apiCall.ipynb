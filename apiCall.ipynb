{
 "cells": [
  {
   "cell_type": "code",
   "execution_count": null,
   "metadata": {},
   "outputs": [],
   "source": [
    "# Dependencies and Setup\n",
    "import matplotlib.pyplot as plt\n",
    "import csv\n",
    "import pandas as pd\n",
    "import numpy as np\n",
    "import requests\n",
    "import json\n",
    "from pprint import pprint\n",
    "from pandas.io.json import json_normalize\n",
    "\n",
    "\n",
    "\n",
    "# Import API key\n",
    "from api_key import brew\n"
   ]
  },
  {
   "cell_type": "code",
   "execution_count": null,
   "metadata": {},
   "outputs": [],
   "source": [
    "\n",
    "brew_df = pd.DataFrame({\"ID\":[\"test\"],\"Name\":\"\",\"Description\":\"\",\"Website\":\"\",\"Established\":\"\"})\n",
    "brew_df\n",
    "\n",
    "# output data to json file\n",
    "import json\n",
    "with open('beers_data.json', 'w', encoding='utf-8') as f:\n",
    "    json.dump(response, f, ensure_ascii=False, indent=4)"
   ]
  },
  {
   "cell_type": "code",
   "execution_count": 35,
   "metadata": {
    "tags": [
     "outputPrepend",
     "outputPrepend"
    ]
   },
   "outputs": [],
   "source": [
    "import json\n",
    "with open('wc.json', 'w', encoding='utf-8') as f:\n",
    "    json.dump(response, f, ensure_ascii=False, indent=4)"
   ]
  },
  {
   "cell_type": "code",
   "execution_count": null,
   "metadata": {},
   "outputs": [],
   "source": [
    "\n",
    "\n",
    "for beer in response['data']:\n",
    "    beer_id.append(beer['id'])"
   ]
  },
  {
   "cell_type": "code",
   "execution_count": 36,
   "metadata": {},
   "outputs": [],
   "source": [
    "base_url = \"https://api.brewerydb.com/v2/brewery/vdwbRU/beers\"\n",
    "# base_url = \"https://api.brewerydb.com/v2/beer/f66F2g/breweries\"\n",
    "urlq = f\"{base_url}?key={brew}\"\n",
    "\n",
    "response = requests.get(urlq).json()\n",
    "\n"
   ]
  },
  {
   "cell_type": "code",
   "execution_count": null,
   "metadata": {},
   "outputs": [],
   "source": [
    "p_start = response['currentPage']\n",
    "p_last = response['numberOfPages']\n",
    "q_range = range(p_start, p_last,1)\n",
    "\n",
    "for page in q_range:\n",
    "    response = requests.get(f'{urlq}&p={page}').json()\n",
    "    for beer in response['data']:\n",
    "        beer_id.append(beer['id'])\n",
    "len(beer_id)"
   ]
  },
  {
   "cell_type": "code",
   "execution_count": 37,
   "metadata": {},
   "outputs": [],
   "source": [
    "brewery = json_normalize(response['data'])\n",
    "brewery.to_csv('white_claw.csv',index=False)"
   ]
  },
  {
   "cell_type": "code",
   "execution_count": null,
   "metadata": {},
   "outputs": [],
   "source": [
    "test = requests.get(f'{urlq}&year=2005').json()\n",
    "test"
   ]
  },
  {
   "cell_type": "code",
   "execution_count": null,
   "metadata": {},
   "outputs": [],
   "source": [
    "beer_key = {\"id\":beer_id}\n",
    "beers_df = pd.DataFrame(beer_key)\n",
    "\n",
    "\n",
    "beers_df[\"Name\"]=\"\"\n",
    "beers_df[\"abv\"]=\"\"\n",
    "beers_df[\"ibu\"]=\"\"\n",
    "beers_df[\"isOrganic\"]=\"\"\n",
    "beers_df[\"isRetired\"]=\"\"\n",
    "beers_df[\"servingTemperatureDisplay\"]=\"\"\n",
    "beers_df[\"Style\"] = \"\""
   ]
  },
  {
   "cell_type": "code",
   "execution_count": null,
   "metadata": {},
   "outputs": [],
   "source": [
    "bl_abv = response['data']['style']['name']\n",
    "bl_abv\n",
    "\n",
    "beers_df[\"Name\"]=\"\"\n",
    "beers_df[\"abv\"]=\"\"\n",
    "beers_df[\"ibu\"]=\"\"\n",
    "beers_df[\"isOrganic\"]= response['data']['isOrganic']\n",
    "beers_df[\"isRetired\"]= response['data']['isRetired']\n",
    "beers_df[\"Style\"] = response['data']['style']['name']"
   ]
  },
  {
   "cell_type": "code",
   "execution_count": null,
   "metadata": {},
   "outputs": [],
   "source": []
  },
  {
   "cell_type": "code",
   "execution_count": null,
   "metadata": {},
   "outputs": [],
   "source": []
  },
  {
   "cell_type": "code",
   "execution_count": null,
   "metadata": {},
   "outputs": [],
   "source": []
  },
  {
   "cell_type": "code",
   "execution_count": null,
   "metadata": {},
   "outputs": [],
   "source": []
  }
 ],
 "metadata": {
  "language_info": {
   "codemirror_mode": {
    "name": "ipython",
    "version": 3
   },
   "file_extension": ".py",
   "mimetype": "text/x-python",
   "name": "python",
   "nbconvert_exporter": "python",
   "pygments_lexer": "ipython3",
   "version": "3.7.6-final"
  },
  "orig_nbformat": 2,
  "kernelspec": {
   "name": "python37664bitdannevirtualenvd7bda2e2111e4321bfb3a90ad34ab199",
   "display_name": "Python 3.7.6 64-bit ('danne': virtualenv)"
  }
 },
 "nbformat": 4,
 "nbformat_minor": 2
}